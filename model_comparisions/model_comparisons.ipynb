{
 "cells": [
  {
   "cell_type": "code",
   "execution_count": 1,
   "metadata": {},
   "outputs": [],
   "source": [
    "# This Python 3 environment comes with many helpful analytics libraries installed\n",
    "# It is defined by the kaggle/python docker image: https://github.com/kaggle/docker-python\n",
    "# For example, here's several helpful packages to load in \n",
    "import numpy as np # linear algebra\n",
    "import pandas as pd # data processing, CSV file I/O (e.g. pd.read_csv)\n",
    "from sklearn.tree import DecisionTreeClassifier # Import Decision Tree Classifier\n",
    "from sklearn.model_selection import train_test_split # Import train_test_split function\n",
    "from sklearn import metrics #Import scikit-learn metrics module for accuracy calculation\n",
    "from sklearn.tree import export_graphviz\n",
    "from sklearn.model_selection import KFold as kf\n",
    "from sklearn.model_selection import cross_val_score\n",
    "from sklearn.linear_model import LogisticRegression\n",
    "from sklearn.neighbors import KNeighborsClassifier \n",
    "from sklearn.ensemble import RandomForestClassifier \n",
    "from sklearn.model_selection import GridSearchCV\n",
    "from sklearn.metrics import accuracy_score\n",
    "from matplotlib import pyplot as plt\n",
    "from sklearn.model_selection import cross_val_score,train_test_split\n",
    "import graphviz\n",
    "# import pydotplus\n",
    "import io\n",
    "from scipy import misc\n",
    "\n",
    "%matplotlib inline\n",
    "\n",
    "import hyperopt\n",
    "from catboost import Pool, CatBoostClassifier, cv\n",
    "\n",
    "from scipy.stats import uniform, randint\n",
    "\n",
    "from sklearn.metrics import auc, accuracy_score, confusion_matrix, mean_squared_error\n",
    "from sklearn.model_selection import cross_val_score, GridSearchCV, KFold, RandomizedSearchCV, train_test_split\n",
    "\n",
    "import xgboost as xgb\n",
    "import warnings\n",
    "warnings.simplefilter(action='ignore', category=FutureWarning)"
   ]
  },
  {
   "cell_type": "code",
   "execution_count": 18,
   "metadata": {},
   "outputs": [
    {
     "data": {
      "text/plain": [
       "(1048575, 11)"
      ]
     },
     "execution_count": 18,
     "metadata": {},
     "output_type": "execute_result"
    }
   ],
   "source": [
    "data = pd.read_csv(\"MergedData.csv\")\n",
    "data.shape\n",
    "\n"
   ]
  },
  {
   "cell_type": "code",
   "execution_count": 19,
   "metadata": {},
   "outputs": [],
   "source": [
    "data['weight'] = data['weight'].apply(np.int64)\n"
   ]
  },
  {
   "cell_type": "code",
   "execution_count": 20,
   "metadata": {},
   "outputs": [
    {
     "data": {
      "text/plain": [
       "(1048575, 11)"
      ]
     },
     "execution_count": 20,
     "metadata": {},
     "output_type": "execute_result"
    }
   ],
   "source": [
    "data.shape"
   ]
  },
  {
   "cell_type": "code",
   "execution_count": 21,
   "metadata": {},
   "outputs": [
    {
     "data": {
      "text/plain": [
       "code_module          0\n",
       "code_presentation    0\n",
       "final_result         0\n",
       "assessment_type      0\n",
       "weight               0\n",
       "score                0\n",
       "gender               0\n",
       "imd_band             0\n",
       "id_site              0\n",
       "activity_type        0\n",
       "sum                  0\n",
       "dtype: int64"
      ]
     },
     "execution_count": 21,
     "metadata": {},
     "output_type": "execute_result"
    }
   ],
   "source": [
    "data.isnull().sum()"
   ]
  },
  {
   "cell_type": "code",
   "execution_count": 22,
   "metadata": {},
   "outputs": [
    {
     "name": "stdout",
     "output_type": "stream",
     "text": [
      "Training size: 838860, Test size: 209715\n"
     ]
    }
   ],
   "source": [
    "train, test = train_test_split(data, test_size = 0.2)\n",
    "print(\"Training size: {}, Test size: {}\".format(len(train), len(test)))"
   ]
  },
  {
   "cell_type": "code",
   "execution_count": 23,
   "metadata": {},
   "outputs": [
    {
     "data": {
      "text/plain": [
       "(838860, 11)"
      ]
     },
     "execution_count": 23,
     "metadata": {},
     "output_type": "execute_result"
    }
   ],
   "source": [
    "train.shape\n"
   ]
  },
  {
   "cell_type": "code",
   "execution_count": 24,
   "metadata": {},
   "outputs": [],
   "source": [
    "feature_cols =['code_module', 'code_presentation', 'assessment_type', \n",
    "               'weight','score', 'gender', 'imd_band', 'id_site', 'activity_type', 'sum']"
   ]
  },
  {
   "cell_type": "code",
   "execution_count": 25,
   "metadata": {},
   "outputs": [],
   "source": [
    "X_train = train[feature_cols]\n",
    "y_train = train['final_result']\n",
    "\n",
    "X_test = test[feature_cols]\n",
    "y_test = test['final_result']"
   ]
  },
  {
   "cell_type": "markdown",
   "metadata": {},
   "source": [
    "## Final Feature Selection"
   ]
  },
  {
   "cell_type": "code",
   "execution_count": 26,
   "metadata": {},
   "outputs": [
    {
     "name": "stdout",
     "output_type": "stream",
     "text": [
      "[0.05060915 0.04759519 0.01119016 0.06244458 0.3463518  0.03251835\n",
      " 0.22932718 0.13847617 0.01167062 0.06981679]\n"
     ]
    }
   ],
   "source": [
    "#feature importance\n",
    "from sklearn import metrics\n",
    "from sklearn.ensemble import ExtraTreesClassifier\n",
    "model = ExtraTreesClassifier()\n",
    "model.fit(X_train, y_train)\n",
    "# display the relative importance of each attribute\n",
    "print(model.feature_importances_)\n",
    "# feature ranking\n",
    "#5,7,8,10,4,1,2,6,3,9 "
   ]
  },
  {
   "cell_type": "code",
   "execution_count": 27,
   "metadata": {},
   "outputs": [],
   "source": [
    "# feature_cols =['code_module', 'code_presentation', 'assessment_type', \n",
    "#                'weight','score', 'gender', 'imd_band', 'id_site', 'activity_type', 'sum']\n",
    "\n",
    "feature_cols =['score', 'imd_band', 'id_site', 'sum', 'weight']\n",
    "X_train = train[feature_cols]\n",
    "y_train = train['final_result']\n",
    "\n",
    "X_test = test[feature_cols]\n",
    "y_test = test['final_result']"
   ]
  },
  {
   "cell_type": "markdown",
   "metadata": {},
   "source": [
    "## Loading The data Globally"
   ]
  },
  {
   "cell_type": "code",
   "execution_count": 28,
   "metadata": {},
   "outputs": [],
   "source": [
    "data=pd.read_csv('MergedData.csv')"
   ]
  },
  {
   "cell_type": "markdown",
   "metadata": {},
   "source": [
    "## XGB Classifier"
   ]
  },
  {
   "cell_type": "code",
   "execution_count": 29,
   "metadata": {},
   "outputs": [],
   "source": [
    "df=data.copy()\n",
    "df=df.loc[:,['score', 'imd_band', 'id_site', 'sum', 'weight','final_result']]\n",
    "X=df.drop('final_result',axis=1)\n",
    "Y=df.final_result"
   ]
  },
  {
   "cell_type": "code",
   "execution_count": 30,
   "metadata": {},
   "outputs": [
    {
     "name": "stdout",
     "output_type": "stream",
     "text": [
      "The accureacy is:  87.8 %\n"
     ]
    }
   ],
   "source": [
    "# You can experiment with many other options here, using the same .fit() and .predict()\n",
    "# methods; see http://scikit-learn.org\n",
    "# This example uses the current build of XGBoost, from https://github.com/dmlc/xgboost\n",
    "x_train,x_test,y_train,y_test = train_test_split(X,Y, test_size = 0.2,random_state=47)\n",
    "gbm = xgb.XGBClassifier(max_depth=10, n_estimators=100, learning_rate=0.1,n_jobs=-1).fit(x_train, y_train)\n",
    "y_pred=gbm.predict(x_test)\n",
    "ac=accuracy_score(y_test,y_pred)*100\n",
    "print('The accureacy is: ',round(ac,2),'%')"
   ]
  },
  {
   "cell_type": "markdown",
   "metadata": {},
   "source": [
    "## Decision Tree Classifier"
   ]
  },
  {
   "cell_type": "code",
   "execution_count": 31,
   "metadata": {},
   "outputs": [],
   "source": [
    "df=data.copy()"
   ]
  },
  {
   "cell_type": "code",
   "execution_count": 32,
   "metadata": {},
   "outputs": [],
   "source": [
    "df=df.loc[:,['score', 'imd_band', 'id_site', 'sum', 'weight','final_result']]"
   ]
  },
  {
   "cell_type": "code",
   "execution_count": 33,
   "metadata": {},
   "outputs": [],
   "source": [
    "df.head()\n",
    "X=df.drop('final_result',axis=1)\n",
    "Y=df.final_result"
   ]
  },
  {
   "cell_type": "code",
   "execution_count": 34,
   "metadata": {},
   "outputs": [],
   "source": [
    "dclf=DecisionTreeClassifier(criterion='entropy',max_depth=10,random_state=47)"
   ]
  },
  {
   "cell_type": "code",
   "execution_count": 35,
   "metadata": {},
   "outputs": [
    {
     "name": "stdout",
     "output_type": "stream",
     "text": [
      "The accureacy is:  72.61 %\n"
     ]
    }
   ],
   "source": [
    "x_train,x_test,y_train,y_test = train_test_split(X,Y, test_size = 0.2,random_state=47)\n",
    "clf=dclf.fit(x_train,y_train)\n",
    "y_pred=clf.predict(x_test)\n",
    "ac=accuracy_score(y_test,y_pred)*100\n",
    "print('The accureacy is: ',round(ac,2),'%')"
   ]
  },
  {
   "cell_type": "markdown",
   "metadata": {},
   "source": [
    "## KNN Classifier"
   ]
  },
  {
   "cell_type": "code",
   "execution_count": 36,
   "metadata": {},
   "outputs": [],
   "source": [
    "kclf=KNeighborsClassifier()"
   ]
  },
  {
   "cell_type": "code",
   "execution_count": 37,
   "metadata": {},
   "outputs": [
    {
     "name": "stdout",
     "output_type": "stream",
     "text": [
      "The accureacy is:  71.73 %\n"
     ]
    }
   ],
   "source": [
    "x_train,x_test,y_train,y_test = train_test_split(X,Y, test_size = 0.2,random_state=47)\n",
    "klf=kclf.fit(x_train,y_train)\n",
    "y_pred=klf.predict(x_test)\n",
    "ac=accuracy_score(y_test,y_pred)*100\n",
    "print('The accureacy is: ',round(ac,2),'%')"
   ]
  },
  {
   "cell_type": "markdown",
   "metadata": {},
   "source": [
    "## RandomForest Classifier"
   ]
  },
  {
   "cell_type": "code",
   "execution_count": 38,
   "metadata": {},
   "outputs": [
    {
     "name": "stdout",
     "output_type": "stream",
     "text": [
      "The accureacy is:  87.24 %\n"
     ]
    }
   ],
   "source": [
    "rfc=RandomForestClassifier(criterion='entropy',max_depth=15, n_jobs=-1)\n",
    "x_train,x_test,y_train,y_test = train_test_split(X,Y, test_size = 0.2,random_state=47)\n",
    "rlf=rfc.fit(x_train,y_train)\n",
    "y_pred=rlf.predict(x_test)\n",
    "ac=accuracy_score(y_test,y_pred)*100\n",
    "print('The accureacy is: ',round(ac,2),'%')"
   ]
  },
  {
   "cell_type": "markdown",
   "metadata": {},
   "source": [
    "## Catboosting"
   ]
  },
  {
   "cell_type": "code",
   "execution_count": 39,
   "metadata": {},
   "outputs": [],
   "source": [
    "import hyperopt\n",
    "from catboost import Pool, CatBoostClassifier, cv\n",
    "from sklearn.model_selection import train_test_split\n",
    "from sklearn.metrics import accuracy_score"
   ]
  },
  {
   "cell_type": "code",
   "execution_count": 40,
   "metadata": {},
   "outputs": [
    {
     "data": {
      "text/plain": [
       "(1048575, 11)"
      ]
     },
     "execution_count": 40,
     "metadata": {},
     "output_type": "execute_result"
    }
   ],
   "source": [
    "train_df = pd.read_csv(\"MergedData.csv\")\n",
    "\n",
    "df = pd.DataFrame(train_df, columns=['score', 'imd_band', 'id_site', 'sum', 'weight','final_result'])\n",
    "\n",
    "# df.shape\n",
    "train_df.shape"
   ]
  },
  {
   "cell_type": "code",
   "execution_count": 41,
   "metadata": {},
   "outputs": [],
   "source": [
    "df['weight'] = df['weight'].apply(np.int64)"
   ]
  },
  {
   "cell_type": "code",
   "execution_count": 42,
   "metadata": {},
   "outputs": [
    {
     "data": {
      "text/html": [
       "<div>\n",
       "<style scoped>\n",
       "    .dataframe tbody tr th:only-of-type {\n",
       "        vertical-align: middle;\n",
       "    }\n",
       "\n",
       "    .dataframe tbody tr th {\n",
       "        vertical-align: top;\n",
       "    }\n",
       "\n",
       "    .dataframe thead th {\n",
       "        text-align: right;\n",
       "    }\n",
       "</style>\n",
       "<table border=\"1\" class=\"dataframe\">\n",
       "  <thead>\n",
       "    <tr style=\"text-align: right;\">\n",
       "      <th></th>\n",
       "      <th>score</th>\n",
       "      <th>imd_band</th>\n",
       "      <th>id_site</th>\n",
       "      <th>sum</th>\n",
       "      <th>weight</th>\n",
       "      <th>final_result</th>\n",
       "    </tr>\n",
       "  </thead>\n",
       "  <tbody>\n",
       "    <tr>\n",
       "      <th>0</th>\n",
       "      <td>60</td>\n",
       "      <td>8</td>\n",
       "      <td>877011</td>\n",
       "      <td>23</td>\n",
       "      <td>10</td>\n",
       "      <td>2</td>\n",
       "    </tr>\n",
       "    <tr>\n",
       "      <th>1</th>\n",
       "      <td>60</td>\n",
       "      <td>8</td>\n",
       "      <td>877012</td>\n",
       "      <td>305</td>\n",
       "      <td>10</td>\n",
       "      <td>2</td>\n",
       "    </tr>\n",
       "    <tr>\n",
       "      <th>2</th>\n",
       "      <td>60</td>\n",
       "      <td>8</td>\n",
       "      <td>877015</td>\n",
       "      <td>26</td>\n",
       "      <td>10</td>\n",
       "      <td>2</td>\n",
       "    </tr>\n",
       "    <tr>\n",
       "      <th>3</th>\n",
       "      <td>60</td>\n",
       "      <td>8</td>\n",
       "      <td>877023</td>\n",
       "      <td>6</td>\n",
       "      <td>10</td>\n",
       "      <td>2</td>\n",
       "    </tr>\n",
       "    <tr>\n",
       "      <th>4</th>\n",
       "      <td>60</td>\n",
       "      <td>8</td>\n",
       "      <td>877025</td>\n",
       "      <td>91</td>\n",
       "      <td>10</td>\n",
       "      <td>2</td>\n",
       "    </tr>\n",
       "  </tbody>\n",
       "</table>\n",
       "</div>"
      ],
      "text/plain": [
       "   score  imd_band  id_site  sum  weight  final_result\n",
       "0     60         8   877011   23      10             2\n",
       "1     60         8   877012  305      10             2\n",
       "2     60         8   877015   26      10             2\n",
       "3     60         8   877023    6      10             2\n",
       "4     60         8   877025   91      10             2"
      ]
     },
     "execution_count": 42,
     "metadata": {},
     "output_type": "execute_result"
    }
   ],
   "source": [
    "df.head()"
   ]
  },
  {
   "cell_type": "code",
   "execution_count": 43,
   "metadata": {},
   "outputs": [
    {
     "data": {
      "text/plain": [
       "0    2\n",
       "1    2\n",
       "2    2\n",
       "3    2\n",
       "4    2\n",
       "Name: final_result, dtype: int64"
      ]
     },
     "execution_count": 43,
     "metadata": {},
     "output_type": "execute_result"
    }
   ],
   "source": [
    "x = df.drop('final_result',axis=1)\n",
    "y = df.final_result\n",
    "\n",
    "y.head()"
   ]
  },
  {
   "cell_type": "code",
   "execution_count": 44,
   "metadata": {},
   "outputs": [
    {
     "name": "stdout",
     "output_type": "stream",
     "text": [
      "[0 1 2 3 4]\n"
     ]
    }
   ],
   "source": [
    "#choose the features we want to train, just forget the float data\n",
    "cate_features_index = np.where(x.dtypes != float)[0]\n",
    "\n",
    "print(cate_features_index)"
   ]
  },
  {
   "cell_type": "code",
   "execution_count": 45,
   "metadata": {},
   "outputs": [
    {
     "name": "stdout",
     "output_type": "stream",
     "text": [
      "[0, 1, 2, 3, 4]\n"
     ]
    }
   ],
   "source": [
    "cat_features = list(range(0, x.shape[1]))\n",
    "print(cat_features)"
   ]
  },
  {
   "cell_type": "code",
   "execution_count": 46,
   "metadata": {},
   "outputs": [],
   "source": [
    "xtrain,xtest,ytrain,ytest = train_test_split(x,y,train_size=.85,random_state=1234)"
   ]
  },
  {
   "cell_type": "code",
   "execution_count": 47,
   "metadata": {},
   "outputs": [],
   "source": [
    "model = CatBoostClassifier(iterations=300,eval_metric='Accuracy',use_best_model=True,random_seed=42)"
   ]
  },
  {
   "cell_type": "code",
   "execution_count": 48,
   "metadata": {},
   "outputs": [
    {
     "name": "stdout",
     "output_type": "stream",
     "text": [
      "0:\tlearn: 0.7967369\ttest: 0.8011152\tbest: 0.8011152 (0)\ttotal: 1.78s\tremaining: 8m 51s\n",
      "1:\tlearn: 0.8008859\ttest: 0.8038236\tbest: 0.8038236 (1)\ttotal: 3.3s\tremaining: 8m 12s\n",
      "2:\tlearn: 0.8013762\ttest: 0.8038872\tbest: 0.8038872 (2)\ttotal: 4.53s\tremaining: 7m 28s\n",
      "3:\tlearn: 0.8018329\ttest: 0.8046310\tbest: 0.8046310 (3)\ttotal: 5.71s\tremaining: 7m 2s\n",
      "4:\tlearn: 0.8012281\ttest: 0.8040207\tbest: 0.8046310 (3)\ttotal: 6.89s\tremaining: 6m 46s\n",
      "5:\tlearn: 0.8025992\ttest: 0.8055783\tbest: 0.8055783 (5)\ttotal: 8.09s\tremaining: 6m 36s\n",
      "6:\tlearn: 0.8027809\ttest: 0.8057055\tbest: 0.8057055 (6)\ttotal: 9.33s\tremaining: 6m 30s\n",
      "7:\tlearn: 0.8030726\ttest: 0.8059598\tbest: 0.8059598 (7)\ttotal: 10.9s\tremaining: 6m 36s\n",
      "8:\tlearn: 0.8030278\ttest: 0.8059598\tbest: 0.8059598 (7)\ttotal: 12s\tremaining: 6m 28s\n",
      "9:\tlearn: 0.8029930\ttest: 0.8058263\tbest: 0.8059598 (7)\ttotal: 13.2s\tremaining: 6m 22s\n",
      "10:\tlearn: 0.8038356\ttest: 0.8070152\tbest: 0.8070152 (10)\ttotal: 14.4s\tremaining: 6m 17s\n",
      "11:\tlearn: 0.8039377\ttest: 0.8068181\tbest: 0.8070152 (10)\ttotal: 15.6s\tremaining: 6m 13s\n",
      "12:\tlearn: 0.8041957\ttest: 0.8074094\tbest: 0.8074094 (12)\ttotal: 16.8s\tremaining: 6m 10s\n",
      "13:\tlearn: 0.8040207\ttest: 0.8070724\tbest: 0.8074094 (12)\ttotal: 18s\tremaining: 6m 7s\n",
      "14:\tlearn: 0.8044168\ttest: 0.8076637\tbest: 0.8076637 (14)\ttotal: 19.2s\tremaining: 6m 4s\n",
      "15:\tlearn: 0.8045750\ttest: 0.8078799\tbest: 0.8078799 (15)\ttotal: 20.4s\tremaining: 6m 2s\n",
      "16:\tlearn: 0.8045357\ttest: 0.8082931\tbest: 0.8082931 (16)\ttotal: 21.6s\tremaining: 5m 59s\n",
      "17:\tlearn: 0.8045682\ttest: 0.8084775\tbest: 0.8084775 (17)\ttotal: 22.8s\tremaining: 5m 56s\n",
      "18:\tlearn: 0.8051135\ttest: 0.8090243\tbest: 0.8090243 (18)\ttotal: 24s\tremaining: 5m 54s\n",
      "19:\tlearn: 0.8052706\ttest: 0.8091705\tbest: 0.8091705 (19)\ttotal: 25.2s\tremaining: 5m 52s\n",
      "20:\tlearn: 0.8053457\ttest: 0.8094057\tbest: 0.8094057 (20)\ttotal: 26.4s\tremaining: 5m 50s\n",
      "21:\tlearn: 0.8053435\ttest: 0.8094057\tbest: 0.8094057 (20)\ttotal: 27.5s\tremaining: 5m 48s\n",
      "22:\tlearn: 0.8054692\ttest: 0.8095329\tbest: 0.8095329 (22)\ttotal: 28.7s\tremaining: 5m 46s\n",
      "23:\tlearn: 0.8060245\ttest: 0.8102386\tbest: 0.8102386 (23)\ttotal: 29.9s\tremaining: 5m 43s\n",
      "24:\tlearn: 0.8059954\ttest: 0.8103085\tbest: 0.8103085 (24)\ttotal: 31.1s\tremaining: 5m 42s\n",
      "25:\tlearn: 0.8061098\ttest: 0.8104103\tbest: 0.8104103 (25)\ttotal: 32.3s\tremaining: 5m 40s\n",
      "26:\tlearn: 0.8061132\ttest: 0.8104039\tbest: 0.8104103 (25)\ttotal: 33.6s\tremaining: 5m 39s\n",
      "27:\tlearn: 0.8072071\ttest: 0.8116183\tbest: 0.8116183 (27)\ttotal: 34.8s\tremaining: 5m 37s\n",
      "28:\tlearn: 0.8072228\ttest: 0.8115928\tbest: 0.8116183 (27)\ttotal: 36s\tremaining: 5m 36s\n",
      "29:\tlearn: 0.8071779\ttest: 0.8116755\tbest: 0.8116755 (29)\ttotal: 37.2s\tremaining: 5m 34s\n",
      "30:\tlearn: 0.8073608\ttest: 0.8118598\tbest: 0.8118598 (30)\ttotal: 38.4s\tremaining: 5m 33s\n",
      "31:\tlearn: 0.8073485\ttest: 0.8119489\tbest: 0.8119489 (31)\ttotal: 39.6s\tremaining: 5m 31s\n",
      "32:\tlearn: 0.8073608\ttest: 0.8119489\tbest: 0.8119489 (31)\ttotal: 40.9s\tremaining: 5m 30s\n",
      "33:\tlearn: 0.8074046\ttest: 0.8119425\tbest: 0.8119489 (31)\ttotal: 42.1s\tremaining: 5m 29s\n",
      "34:\tlearn: 0.8073933\ttest: 0.8119425\tbest: 0.8119489 (31)\ttotal: 43.4s\tremaining: 5m 28s\n",
      "35:\tlearn: 0.8164376\ttest: 0.8210024\tbest: 0.8210024 (35)\ttotal: 45.3s\tremaining: 5m 32s\n",
      "36:\tlearn: 0.8207762\ttest: 0.8259805\tbest: 0.8259805 (36)\ttotal: 46.8s\tremaining: 5m 32s\n",
      "37:\tlearn: 0.8262660\ttest: 0.8325481\tbest: 0.8325481 (37)\ttotal: 48s\tremaining: 5m 30s\n",
      "38:\tlearn: 0.8337069\ttest: 0.8407561\tbest: 0.8407561 (38)\ttotal: 49.4s\tremaining: 5m 30s\n",
      "39:\tlearn: 0.8381814\ttest: 0.8468405\tbest: 0.8468405 (39)\ttotal: 50.5s\tremaining: 5m 28s\n",
      "40:\tlearn: 0.8453272\ttest: 0.8546479\tbest: 0.8546479 (40)\ttotal: 51.7s\tremaining: 5m 26s\n",
      "41:\tlearn: 0.8481097\ttest: 0.8576615\tbest: 0.8576615 (41)\ttotal: 52.9s\tremaining: 5m 24s\n",
      "42:\tlearn: 0.8542525\ttest: 0.8644580\tbest: 0.8644580 (42)\ttotal: 54s\tremaining: 5m 23s\n",
      "43:\tlearn: 0.8569901\ttest: 0.8668167\tbest: 0.8668167 (43)\ttotal: 55.2s\tremaining: 5m 21s\n",
      "44:\tlearn: 0.8602876\ttest: 0.8705360\tbest: 0.8705360 (44)\ttotal: 56.4s\tremaining: 5m 19s\n",
      "45:\tlearn: 0.8668702\ttest: 0.8786486\tbest: 0.8786486 (45)\ttotal: 57.6s\tremaining: 5m 17s\n",
      "46:\tlearn: 0.8714635\ttest: 0.8845550\tbest: 0.8845550 (46)\ttotal: 58.7s\tremaining: 5m 16s\n",
      "47:\tlearn: 0.8737277\ttest: 0.8874160\tbest: 0.8874160 (47)\ttotal: 59.9s\tremaining: 5m 14s\n",
      "48:\tlearn: 0.8768513\ttest: 0.8906839\tbest: 0.8906839 (48)\ttotal: 1m 1s\tremaining: 5m 12s\n",
      "49:\tlearn: 0.8801633\ttest: 0.8945431\tbest: 0.8945431 (49)\ttotal: 1m 2s\tremaining: 5m 10s\n",
      "50:\tlearn: 0.8827214\ttest: 0.8975313\tbest: 0.8975313 (50)\ttotal: 1m 3s\tremaining: 5m 9s\n",
      "51:\tlearn: 0.8859078\ttest: 0.9009136\tbest: 0.9009136 (51)\ttotal: 1m 4s\tremaining: 5m 7s\n",
      "52:\tlearn: 0.8884121\ttest: 0.9040671\tbest: 0.9040671 (52)\ttotal: 1m 5s\tremaining: 5m 5s\n",
      "53:\tlearn: 0.8906683\ttest: 0.9064640\tbest: 0.9064640 (53)\ttotal: 1m 6s\tremaining: 5m 4s\n",
      "54:\tlearn: 0.8917746\ttest: 0.9076720\tbest: 0.9076720 (54)\ttotal: 1m 7s\tremaining: 5m 2s\n",
      "55:\tlearn: 0.8932197\ttest: 0.9092423\tbest: 0.9092423 (55)\ttotal: 1m 9s\tremaining: 5m 1s\n",
      "56:\tlearn: 0.8948353\ttest: 0.9111243\tbest: 0.9111243 (56)\ttotal: 1m 10s\tremaining: 4m 59s\n",
      "57:\tlearn: 0.8948163\ttest: 0.9112514\tbest: 0.9112514 (57)\ttotal: 1m 11s\tremaining: 4m 58s\n",
      "58:\tlearn: 0.8973699\ttest: 0.9137310\tbest: 0.9137310 (58)\ttotal: 1m 12s\tremaining: 4m 56s\n",
      "59:\tlearn: 0.8984997\ttest: 0.9150089\tbest: 0.9150089 (59)\ttotal: 1m 13s\tremaining: 4m 55s\n",
      "60:\tlearn: 0.9003016\ttest: 0.9173358\tbest: 0.9173358 (60)\ttotal: 1m 14s\tremaining: 4m 53s\n",
      "61:\tlearn: 0.9003308\ttest: 0.9173485\tbest: 0.9173485 (61)\ttotal: 1m 16s\tremaining: 4m 52s\n",
      "62:\tlearn: 0.9012957\ttest: 0.9186137\tbest: 0.9186137 (62)\ttotal: 1m 17s\tremaining: 4m 50s\n",
      "63:\tlearn: 0.9020799\ttest: 0.9195038\tbest: 0.9195038 (63)\ttotal: 1m 18s\tremaining: 4m 49s\n",
      "64:\tlearn: 0.9027452\ttest: 0.9202096\tbest: 0.9202096 (64)\ttotal: 1m 19s\tremaining: 4m 47s\n",
      "65:\tlearn: 0.9034835\ttest: 0.9209852\tbest: 0.9209852 (65)\ttotal: 1m 20s\tremaining: 4m 46s\n",
      "66:\tlearn: 0.9036047\ttest: 0.9211823\tbest: 0.9211823 (66)\ttotal: 1m 21s\tremaining: 4m 45s\n",
      "67:\tlearn: 0.9036664\ttest: 0.9211569\tbest: 0.9211823 (66)\ttotal: 1m 23s\tremaining: 4m 43s\n",
      "68:\tlearn: 0.9044787\ttest: 0.9223776\tbest: 0.9223776 (68)\ttotal: 1m 24s\tremaining: 4m 42s\n",
      "69:\tlearn: 0.9044978\ttest: 0.9222949\tbest: 0.9223776 (68)\ttotal: 1m 25s\tremaining: 4m 41s\n",
      "70:\tlearn: 0.9055479\ttest: 0.9237954\tbest: 0.9237954 (70)\ttotal: 1m 26s\tremaining: 4m 39s\n",
      "71:\tlearn: 0.9056265\ttest: 0.9236555\tbest: 0.9237954 (70)\ttotal: 1m 27s\tremaining: 4m 38s\n",
      "72:\tlearn: 0.9064814\ttest: 0.9250987\tbest: 0.9250987 (72)\ttotal: 1m 29s\tremaining: 4m 37s\n",
      "73:\tlearn: 0.9082238\ttest: 0.9272349\tbest: 0.9272349 (73)\ttotal: 1m 30s\tremaining: 4m 35s\n",
      "74:\tlearn: 0.9095455\ttest: 0.9293966\tbest: 0.9293966 (74)\ttotal: 1m 31s\tremaining: 4m 34s\n",
      "75:\tlearn: 0.9096386\ttest: 0.9294347\tbest: 0.9294347 (75)\ttotal: 1m 32s\tremaining: 4m 33s\n",
      "76:\tlearn: 0.9100437\ttest: 0.9299052\tbest: 0.9299052 (76)\ttotal: 1m 33s\tremaining: 4m 32s\n",
      "77:\tlearn: 0.9101188\ttest: 0.9300006\tbest: 0.9300006 (77)\ttotal: 1m 35s\tremaining: 4m 30s\n",
      "78:\tlearn: 0.9106529\ttest: 0.9305410\tbest: 0.9305410 (78)\ttotal: 1m 36s\tremaining: 4m 29s\n",
      "79:\tlearn: 0.9107101\ttest: 0.9305728\tbest: 0.9305728 (79)\ttotal: 1m 37s\tremaining: 4m 28s\n",
      "80:\tlearn: 0.9113059\ttest: 0.9313866\tbest: 0.9313866 (80)\ttotal: 1m 38s\tremaining: 4m 27s\n",
      "81:\tlearn: 0.9117277\ttest: 0.9321241\tbest: 0.9321241 (81)\ttotal: 1m 40s\tremaining: 4m 25s\n",
      "82:\tlearn: 0.9116369\ttest: 0.9318189\tbest: 0.9321241 (81)\ttotal: 1m 41s\tremaining: 4m 24s\n",
      "83:\tlearn: 0.9121743\ttest: 0.9325310\tbest: 0.9325310 (83)\ttotal: 1m 42s\tremaining: 4m 23s\n",
      "84:\tlearn: 0.9122753\ttest: 0.9325882\tbest: 0.9325882 (84)\ttotal: 1m 43s\tremaining: 4m 22s\n",
      "85:\tlearn: 0.9119937\ttest: 0.9321749\tbest: 0.9325882 (84)\ttotal: 1m 45s\tremaining: 4m 21s\n",
      "86:\tlearn: 0.9126657\ttest: 0.9329887\tbest: 0.9329887 (86)\ttotal: 1m 46s\tremaining: 4m 20s\n",
      "87:\tlearn: 0.9133512\ttest: 0.9340378\tbest: 0.9340378 (87)\ttotal: 1m 47s\tremaining: 4m 19s\n",
      "88:\tlearn: 0.9140278\ttest: 0.9348579\tbest: 0.9348579 (88)\ttotal: 1m 48s\tremaining: 4m 18s\n",
      "89:\tlearn: 0.9136026\ttest: 0.9341395\tbest: 0.9348579 (88)\ttotal: 1m 50s\tremaining: 4m 17s\n",
      "90:\tlearn: 0.9143476\ttest: 0.9352458\tbest: 0.9352458 (90)\ttotal: 1m 51s\tremaining: 4m 15s\n",
      "91:\tlearn: 0.9145439\ttest: 0.9354429\tbest: 0.9354429 (91)\ttotal: 1m 52s\tremaining: 4m 14s\n",
      "92:\tlearn: 0.9150757\ttest: 0.9361676\tbest: 0.9361676 (92)\ttotal: 1m 53s\tremaining: 4m 13s\n"
     ]
    },
    {
     "name": "stdout",
     "output_type": "stream",
     "text": [
      "93:\tlearn: 0.9151262\ttest: 0.9365936\tbest: 0.9365936 (93)\ttotal: 1m 55s\tremaining: 4m 12s\n",
      "94:\tlearn: 0.9154460\ttest: 0.9364855\tbest: 0.9365936 (93)\ttotal: 1m 56s\tremaining: 4m 11s\n",
      "95:\tlearn: 0.9155200\ttest: 0.9364855\tbest: 0.9365936 (93)\ttotal: 1m 57s\tremaining: 4m 10s\n",
      "96:\tlearn: 0.9156378\ttest: 0.9365809\tbest: 0.9365936 (93)\ttotal: 1m 59s\tremaining: 4m 9s\n",
      "97:\tlearn: 0.9156748\ttest: 0.9365364\tbest: 0.9365936 (93)\ttotal: 2m\tremaining: 4m 8s\n",
      "98:\tlearn: 0.9158622\ttest: 0.9369369\tbest: 0.9369369 (98)\ttotal: 2m 1s\tremaining: 4m 6s\n",
      "99:\tlearn: 0.9159508\ttest: 0.9371022\tbest: 0.9371022 (99)\ttotal: 2m 2s\tremaining: 4m 5s\n",
      "100:\tlearn: 0.9159161\ttest: 0.9372930\tbest: 0.9372930 (100)\ttotal: 2m 4s\tremaining: 4m 4s\n",
      "101:\tlearn: 0.9159980\ttest: 0.9373375\tbest: 0.9373375 (101)\ttotal: 2m 5s\tremaining: 4m 3s\n",
      "102:\tlearn: 0.9163009\ttest: 0.9374201\tbest: 0.9374201 (102)\ttotal: 2m 6s\tremaining: 4m 2s\n",
      "103:\tlearn: 0.9163447\ttest: 0.9378143\tbest: 0.9378143 (103)\ttotal: 2m 7s\tremaining: 4m\n",
      "104:\tlearn: 0.9166409\ttest: 0.9378461\tbest: 0.9378461 (104)\ttotal: 2m 9s\tremaining: 3m 59s\n",
      "105:\tlearn: 0.9167160\ttest: 0.9378525\tbest: 0.9378525 (105)\ttotal: 2m 10s\tremaining: 3m 58s\n",
      "106:\tlearn: 0.9168215\ttest: 0.9378016\tbest: 0.9378525 (105)\ttotal: 2m 11s\tremaining: 3m 57s\n",
      "107:\tlearn: 0.9169359\ttest: 0.9381831\tbest: 0.9381831 (107)\ttotal: 2m 12s\tremaining: 3m 55s\n",
      "108:\tlearn: 0.9169763\ttest: 0.9383102\tbest: 0.9383102 (108)\ttotal: 2m 14s\tremaining: 3m 54s\n",
      "109:\tlearn: 0.9169303\ttest: 0.9384946\tbest: 0.9384946 (109)\ttotal: 2m 15s\tremaining: 3m 53s\n",
      "110:\tlearn: 0.9172176\ttest: 0.9383865\tbest: 0.9384946 (109)\ttotal: 2m 16s\tremaining: 3m 52s\n",
      "111:\tlearn: 0.9172568\ttest: 0.9386599\tbest: 0.9386599 (111)\ttotal: 2m 17s\tremaining: 3m 51s\n",
      "112:\tlearn: 0.9172759\ttest: 0.9388188\tbest: 0.9388188 (112)\ttotal: 2m 18s\tremaining: 3m 50s\n",
      "113:\tlearn: 0.9174554\ttest: 0.9387998\tbest: 0.9388188 (112)\ttotal: 2m 20s\tremaining: 3m 48s\n",
      "114:\tlearn: 0.9173432\ttest: 0.9388761\tbest: 0.9388761 (114)\ttotal: 2m 21s\tremaining: 3m 47s\n",
      "115:\tlearn: 0.9174509\ttest: 0.9388634\tbest: 0.9388761 (114)\ttotal: 2m 22s\tremaining: 3m 46s\n",
      "116:\tlearn: 0.9174790\ttest: 0.9390795\tbest: 0.9390795 (116)\ttotal: 2m 23s\tremaining: 3m 44s\n",
      "117:\tlearn: 0.9174666\ttest: 0.9392575\tbest: 0.9392575 (117)\ttotal: 2m 25s\tremaining: 3m 44s\n",
      "118:\tlearn: 0.9176372\ttest: 0.9394737\tbest: 0.9394737 (118)\ttotal: 2m 26s\tremaining: 3m 42s\n",
      "119:\tlearn: 0.9178302\ttest: 0.9395500\tbest: 0.9395500 (119)\ttotal: 2m 27s\tremaining: 3m 41s\n",
      "120:\tlearn: 0.9178896\ttest: 0.9395564\tbest: 0.9395564 (120)\ttotal: 2m 28s\tremaining: 3m 40s\n",
      "121:\tlearn: 0.9179311\ttest: 0.9395373\tbest: 0.9395564 (120)\ttotal: 2m 30s\tremaining: 3m 39s\n",
      "122:\tlearn: 0.9179704\ttest: 0.9397153\tbest: 0.9397153 (122)\ttotal: 2m 31s\tremaining: 3m 37s\n",
      "123:\tlearn: 0.9180691\ttest: 0.9399442\tbest: 0.9399442 (123)\ttotal: 2m 32s\tremaining: 3m 36s\n",
      "124:\tlearn: 0.9181813\ttest: 0.9398742\tbest: 0.9399442 (123)\ttotal: 2m 33s\tremaining: 3m 35s\n",
      "125:\tlearn: 0.9182150\ttest: 0.9400141\tbest: 0.9400141 (125)\ttotal: 2m 35s\tremaining: 3m 34s\n",
      "126:\tlearn: 0.9182385\ttest: 0.9403702\tbest: 0.9403702 (126)\ttotal: 2m 36s\tremaining: 3m 32s\n",
      "127:\tlearn: 0.9184899\ttest: 0.9403384\tbest: 0.9403702 (126)\ttotal: 2m 37s\tremaining: 3m 31s\n",
      "128:\tlearn: 0.9185202\ttest: 0.9404782\tbest: 0.9404782 (128)\ttotal: 2m 38s\tremaining: 3m 30s\n",
      "129:\tlearn: 0.9186806\ttest: 0.9404274\tbest: 0.9404782 (128)\ttotal: 2m 39s\tremaining: 3m 29s\n",
      "130:\tlearn: 0.9187389\ttest: 0.9405418\tbest: 0.9405418 (130)\ttotal: 2m 41s\tremaining: 3m 27s\n",
      "131:\tlearn: 0.9188152\ttest: 0.9405990\tbest: 0.9405990 (131)\ttotal: 2m 42s\tremaining: 3m 26s\n",
      "132:\tlearn: 0.9189241\ttest: 0.9405863\tbest: 0.9405990 (131)\ttotal: 2m 43s\tremaining: 3m 25s\n",
      "133:\tlearn: 0.9189308\ttest: 0.9407198\tbest: 0.9407198 (133)\ttotal: 2m 44s\tremaining: 3m 23s\n",
      "134:\tlearn: 0.9190419\ttest: 0.9407643\tbest: 0.9407643 (134)\ttotal: 2m 45s\tremaining: 3m 22s\n",
      "135:\tlearn: 0.9191339\ttest: 0.9408216\tbest: 0.9408216 (135)\ttotal: 2m 47s\tremaining: 3m 21s\n",
      "136:\tlearn: 0.9192494\ttest: 0.9408661\tbest: 0.9408661 (136)\ttotal: 2m 48s\tremaining: 3m 20s\n",
      "137:\tlearn: 0.9192652\ttest: 0.9409424\tbest: 0.9409424 (137)\ttotal: 2m 49s\tremaining: 3m 18s\n",
      "138:\tlearn: 0.9193224\ttest: 0.9409042\tbest: 0.9409424 (137)\ttotal: 2m 50s\tremaining: 3m 17s\n",
      "139:\tlearn: 0.9194357\ttest: 0.9411267\tbest: 0.9411267 (139)\ttotal: 2m 51s\tremaining: 3m 16s\n",
      "140:\tlearn: 0.9195602\ttest: 0.9411204\tbest: 0.9411267 (139)\ttotal: 2m 53s\tremaining: 3m 15s\n",
      "141:\tlearn: 0.9196466\ttest: 0.9413493\tbest: 0.9413493 (141)\ttotal: 2m 54s\tremaining: 3m 14s\n",
      "142:\tlearn: 0.9197319\ttest: 0.9413302\tbest: 0.9413493 (141)\ttotal: 2m 55s\tremaining: 3m 12s\n",
      "143:\tlearn: 0.9198071\ttest: 0.9414192\tbest: 0.9414192 (143)\ttotal: 2m 56s\tremaining: 3m 11s\n",
      "144:\tlearn: 0.9199047\ttest: 0.9413493\tbest: 0.9414192 (143)\ttotal: 2m 57s\tremaining: 3m 10s\n",
      "145:\tlearn: 0.9199080\ttest: 0.9414128\tbest: 0.9414192 (143)\ttotal: 2m 59s\tremaining: 3m 8s\n",
      "146:\tlearn: 0.9199338\ttest: 0.9414955\tbest: 0.9414955 (146)\ttotal: 3m\tremaining: 3m 7s\n",
      "147:\tlearn: 0.9200247\ttest: 0.9417053\tbest: 0.9417053 (147)\ttotal: 3m 1s\tremaining: 3m 6s\n",
      "148:\tlearn: 0.9201515\ttest: 0.9417116\tbest: 0.9417116 (148)\ttotal: 3m 2s\tremaining: 3m 5s\n",
      "149:\tlearn: 0.9201672\ttest: 0.9418261\tbest: 0.9418261 (149)\ttotal: 3m 3s\tremaining: 3m 3s\n",
      "150:\tlearn: 0.9201717\ttest: 0.9418007\tbest: 0.9418261 (149)\ttotal: 3m 5s\tremaining: 3m 2s\n",
      "151:\tlearn: 0.9202682\ttest: 0.9417371\tbest: 0.9418261 (149)\ttotal: 3m 6s\tremaining: 3m 1s\n",
      "152:\tlearn: 0.9203927\ttest: 0.9419850\tbest: 0.9419850 (152)\ttotal: 3m 7s\tremaining: 3m\n",
      "153:\tlearn: 0.9204724\ttest: 0.9421631\tbest: 0.9421631 (153)\ttotal: 3m 9s\tremaining: 2m 59s\n",
      "154:\tlearn: 0.9205229\ttest: 0.9420613\tbest: 0.9421631 (153)\ttotal: 3m 10s\tremaining: 2m 58s\n",
      "155:\tlearn: 0.9205476\ttest: 0.9421567\tbest: 0.9421631 (153)\ttotal: 3m 11s\tremaining: 2m 56s\n",
      "156:\tlearn: 0.9206553\ttest: 0.9423665\tbest: 0.9423665 (156)\ttotal: 3m 12s\tremaining: 2m 55s\n",
      "157:\tlearn: 0.9206755\ttest: 0.9422521\tbest: 0.9423665 (156)\ttotal: 3m 14s\tremaining: 2m 54s\n",
      "158:\tlearn: 0.9206777\ttest: 0.9422902\tbest: 0.9423665 (156)\ttotal: 3m 15s\tremaining: 2m 53s\n",
      "159:\tlearn: 0.9207574\ttest: 0.9425000\tbest: 0.9425000 (159)\ttotal: 3m 16s\tremaining: 2m 52s\n",
      "160:\tlearn: 0.9208584\ttest: 0.9427225\tbest: 0.9427225 (160)\ttotal: 3m 17s\tremaining: 2m 50s\n",
      "161:\tlearn: 0.9208606\ttest: 0.9425954\tbest: 0.9427225 (160)\ttotal: 3m 19s\tremaining: 2m 49s\n",
      "162:\tlearn: 0.9209492\ttest: 0.9426971\tbest: 0.9427225 (160)\ttotal: 3m 20s\tremaining: 2m 48s\n",
      "163:\tlearn: 0.9210659\ttest: 0.9428497\tbest: 0.9428497 (163)\ttotal: 3m 21s\tremaining: 2m 47s\n",
      "164:\tlearn: 0.9211590\ttest: 0.9429578\tbest: 0.9429578 (164)\ttotal: 3m 23s\tremaining: 2m 46s\n",
      "165:\tlearn: 0.9212611\ttest: 0.9430976\tbest: 0.9430976 (165)\ttotal: 3m 24s\tremaining: 2m 44s\n",
      "166:\tlearn: 0.9213172\ttest: 0.9433520\tbest: 0.9433520 (166)\ttotal: 3m 25s\tremaining: 2m 43s\n",
      "167:\tlearn: 0.9214474\ttest: 0.9434855\tbest: 0.9434855 (167)\ttotal: 3m 26s\tremaining: 2m 42s\n",
      "168:\tlearn: 0.9215147\ttest: 0.9435745\tbest: 0.9435745 (168)\ttotal: 3m 28s\tremaining: 2m 41s\n",
      "169:\tlearn: 0.9215742\ttest: 0.9435681\tbest: 0.9435745 (168)\ttotal: 3m 29s\tremaining: 2m 40s\n",
      "170:\tlearn: 0.9216684\ttest: 0.9437779\tbest: 0.9437779 (170)\ttotal: 3m 30s\tremaining: 2m 39s\n",
      "171:\tlearn: 0.9217784\ttest: 0.9439242\tbest: 0.9439242 (171)\ttotal: 3m 32s\tremaining: 2m 37s\n",
      "172:\tlearn: 0.9218210\ttest: 0.9439369\tbest: 0.9439369 (172)\ttotal: 3m 33s\tremaining: 2m 36s\n",
      "173:\tlearn: 0.9219029\ttest: 0.9439305\tbest: 0.9439369 (172)\ttotal: 3m 34s\tremaining: 2m 35s\n",
      "174:\tlearn: 0.9218838\ttest: 0.9439623\tbest: 0.9439623 (174)\ttotal: 3m 35s\tremaining: 2m 34s\n",
      "175:\tlearn: 0.9219590\ttest: 0.9441276\tbest: 0.9441276 (175)\ttotal: 3m 37s\tremaining: 2m 32s\n",
      "176:\tlearn: 0.9220218\ttest: 0.9441658\tbest: 0.9441658 (176)\ttotal: 3m 38s\tremaining: 2m 31s\n",
      "177:\tlearn: 0.9220914\ttest: 0.9442421\tbest: 0.9442421 (177)\ttotal: 3m 39s\tremaining: 2m 30s\n",
      "178:\tlearn: 0.9221352\ttest: 0.9442993\tbest: 0.9442993 (178)\ttotal: 3m 40s\tremaining: 2m 29s\n",
      "179:\tlearn: 0.9221307\ttest: 0.9442611\tbest: 0.9442993 (178)\ttotal: 3m 42s\tremaining: 2m 28s\n",
      "180:\tlearn: 0.9221789\ttest: 0.9443946\tbest: 0.9443946 (180)\ttotal: 3m 43s\tremaining: 2m 26s\n",
      "181:\tlearn: 0.9221957\ttest: 0.9443819\tbest: 0.9443946 (180)\ttotal: 3m 44s\tremaining: 2m 25s\n",
      "182:\tlearn: 0.9222238\ttest: 0.9444074\tbest: 0.9444074 (182)\ttotal: 3m 45s\tremaining: 2m 24s\n"
     ]
    },
    {
     "name": "stdout",
     "output_type": "stream",
     "text": [
      "183:\tlearn: 0.9222698\ttest: 0.9444074\tbest: 0.9444074 (182)\ttotal: 3m 47s\tremaining: 2m 23s\n",
      "184:\tlearn: 0.9222866\ttest: 0.9445218\tbest: 0.9445218 (184)\ttotal: 3m 48s\tremaining: 2m 22s\n",
      "185:\tlearn: 0.9222776\ttest: 0.9444074\tbest: 0.9445218 (184)\ttotal: 3m 49s\tremaining: 2m 20s\n",
      "186:\tlearn: 0.9223102\ttest: 0.9443311\tbest: 0.9445218 (184)\ttotal: 3m 50s\tremaining: 2m 19s\n",
      "187:\tlearn: 0.9224246\ttest: 0.9445981\tbest: 0.9445981 (187)\ttotal: 3m 51s\tremaining: 2m 18s\n",
      "188:\tlearn: 0.9225402\ttest: 0.9446172\tbest: 0.9446172 (188)\ttotal: 3m 53s\tremaining: 2m 16s\n",
      "189:\tlearn: 0.9226288\ttest: 0.9446935\tbest: 0.9446935 (189)\ttotal: 3m 54s\tremaining: 2m 15s\n",
      "190:\tlearn: 0.9226490\ttest: 0.9447189\tbest: 0.9447189 (190)\ttotal: 3m 55s\tremaining: 2m 14s\n",
      "191:\tlearn: 0.9227141\ttest: 0.9446871\tbest: 0.9447189 (190)\ttotal: 3m 57s\tremaining: 2m 13s\n",
      "192:\tlearn: 0.9227489\ttest: 0.9447316\tbest: 0.9447316 (192)\ttotal: 3m 58s\tremaining: 2m 12s\n",
      "193:\tlearn: 0.9227567\ttest: 0.9447570\tbest: 0.9447570 (193)\ttotal: 3m 59s\tremaining: 2m 10s\n",
      "194:\tlearn: 0.9228050\ttest: 0.9447507\tbest: 0.9447570 (193)\ttotal: 4m\tremaining: 2m 9s\n",
      "195:\tlearn: 0.9228588\ttest: 0.9448969\tbest: 0.9448969 (195)\ttotal: 4m 1s\tremaining: 2m 8s\n",
      "196:\tlearn: 0.9229160\ttest: 0.9449351\tbest: 0.9449351 (196)\ttotal: 4m 2s\tremaining: 2m 7s\n",
      "197:\tlearn: 0.9229463\ttest: 0.9449605\tbest: 0.9449605 (197)\ttotal: 4m 4s\tremaining: 2m 5s\n",
      "198:\tlearn: 0.9229991\ttest: 0.9449541\tbest: 0.9449605 (197)\ttotal: 4m 5s\tremaining: 2m 4s\n",
      "199:\tlearn: 0.9231236\ttest: 0.9451131\tbest: 0.9451131 (199)\ttotal: 4m 6s\tremaining: 2m 3s\n",
      "200:\tlearn: 0.9231281\ttest: 0.9452402\tbest: 0.9452402 (200)\ttotal: 4m 7s\tremaining: 2m 2s\n",
      "201:\tlearn: 0.9231887\ttest: 0.9452847\tbest: 0.9452847 (201)\ttotal: 4m 9s\tremaining: 2m\n",
      "202:\tlearn: 0.9232246\ttest: 0.9452657\tbest: 0.9452847 (201)\ttotal: 4m 10s\tremaining: 1m 59s\n",
      "203:\tlearn: 0.9233592\ttest: 0.9454882\tbest: 0.9454882 (203)\ttotal: 4m 11s\tremaining: 1m 58s\n",
      "204:\tlearn: 0.9234939\ttest: 0.9457552\tbest: 0.9457552 (204)\ttotal: 4m 12s\tremaining: 1m 57s\n",
      "205:\tlearn: 0.9235758\ttest: 0.9459968\tbest: 0.9459968 (205)\ttotal: 4m 13s\tremaining: 1m 55s\n",
      "206:\tlearn: 0.9237082\ttest: 0.9460222\tbest: 0.9460222 (206)\ttotal: 4m 14s\tremaining: 1m 54s\n",
      "207:\tlearn: 0.9237990\ttest: 0.9461049\tbest: 0.9461049 (207)\ttotal: 4m 16s\tremaining: 1m 53s\n",
      "208:\tlearn: 0.9238776\ttest: 0.9462511\tbest: 0.9462511 (208)\ttotal: 4m 17s\tremaining: 1m 52s\n",
      "209:\tlearn: 0.9239853\ttest: 0.9463083\tbest: 0.9463083 (209)\ttotal: 4m 18s\tremaining: 1m 50s\n",
      "210:\tlearn: 0.9240908\ttest: 0.9465372\tbest: 0.9465372 (210)\ttotal: 4m 19s\tremaining: 1m 49s\n",
      "211:\tlearn: 0.9241379\ttest: 0.9466835\tbest: 0.9466835 (211)\ttotal: 4m 21s\tremaining: 1m 48s\n",
      "212:\tlearn: 0.9240919\ttest: 0.9467152\tbest: 0.9467152 (212)\ttotal: 4m 22s\tremaining: 1m 47s\n",
      "213:\tlearn: 0.9241087\ttest: 0.9467534\tbest: 0.9467534 (213)\ttotal: 4m 23s\tremaining: 1m 45s\n",
      "214:\tlearn: 0.9242422\ttest: 0.9470586\tbest: 0.9470586 (214)\ttotal: 4m 24s\tremaining: 1m 44s\n",
      "215:\tlearn: 0.9243151\ttest: 0.9471158\tbest: 0.9471158 (215)\ttotal: 4m 25s\tremaining: 1m 43s\n",
      "216:\tlearn: 0.9243858\ttest: 0.9472239\tbest: 0.9472239 (216)\ttotal: 4m 27s\tremaining: 1m 42s\n",
      "217:\tlearn: 0.9244464\ttest: 0.9472557\tbest: 0.9472557 (217)\ttotal: 4m 28s\tremaining: 1m 40s\n",
      "218:\tlearn: 0.9244756\ttest: 0.9472239\tbest: 0.9472557 (217)\ttotal: 4m 29s\tremaining: 1m 39s\n",
      "219:\tlearn: 0.9244453\ttest: 0.9472429\tbest: 0.9472557 (217)\ttotal: 4m 30s\tremaining: 1m 38s\n",
      "220:\tlearn: 0.9244935\ttest: 0.9472747\tbest: 0.9472747 (220)\ttotal: 4m 32s\tremaining: 1m 37s\n",
      "221:\tlearn: 0.9245564\ttest: 0.9474718\tbest: 0.9474718 (221)\ttotal: 4m 33s\tremaining: 1m 36s\n",
      "222:\tlearn: 0.9245855\ttest: 0.9475036\tbest: 0.9475036 (222)\ttotal: 4m 34s\tremaining: 1m 34s\n",
      "223:\tlearn: 0.9246405\ttest: 0.9476435\tbest: 0.9476435 (223)\ttotal: 4m 35s\tremaining: 1m 33s\n",
      "224:\tlearn: 0.9246719\ttest: 0.9476816\tbest: 0.9476816 (224)\ttotal: 4m 37s\tremaining: 1m 32s\n",
      "225:\tlearn: 0.9247853\ttest: 0.9478533\tbest: 0.9478533 (225)\ttotal: 4m 38s\tremaining: 1m 31s\n",
      "226:\tlearn: 0.9247774\ttest: 0.9478724\tbest: 0.9478724 (226)\ttotal: 4m 39s\tremaining: 1m 29s\n",
      "227:\tlearn: 0.9248313\ttest: 0.9479550\tbest: 0.9479550 (227)\ttotal: 4m 40s\tremaining: 1m 28s\n",
      "228:\tlearn: 0.9249053\ttest: 0.9481267\tbest: 0.9481267 (228)\ttotal: 4m 41s\tremaining: 1m 27s\n",
      "229:\tlearn: 0.9249771\ttest: 0.9482348\tbest: 0.9482348 (229)\ttotal: 4m 43s\tremaining: 1m 26s\n",
      "230:\tlearn: 0.9250108\ttest: 0.9483047\tbest: 0.9483047 (230)\ttotal: 4m 44s\tremaining: 1m 24s\n",
      "231:\tlearn: 0.9251073\ttest: 0.9484064\tbest: 0.9484064 (231)\ttotal: 4m 45s\tremaining: 1m 23s\n",
      "232:\tlearn: 0.9251319\ttest: 0.9484191\tbest: 0.9484191 (232)\ttotal: 4m 46s\tremaining: 1m 22s\n",
      "233:\tlearn: 0.9251353\ttest: 0.9485145\tbest: 0.9485145 (233)\ttotal: 4m 48s\tremaining: 1m 21s\n",
      "234:\tlearn: 0.9251824\ttest: 0.9486480\tbest: 0.9486480 (234)\ttotal: 4m 49s\tremaining: 1m 20s\n",
      "235:\tlearn: 0.9252744\ttest: 0.9488833\tbest: 0.9488833 (235)\ttotal: 4m 50s\tremaining: 1m 18s\n",
      "236:\tlearn: 0.9253530\ttest: 0.9488515\tbest: 0.9488833 (235)\ttotal: 4m 51s\tremaining: 1m 17s\n",
      "237:\tlearn: 0.9253642\ttest: 0.9489214\tbest: 0.9489214 (237)\ttotal: 4m 52s\tremaining: 1m 16s\n",
      "238:\tlearn: 0.9254786\ttest: 0.9491757\tbest: 0.9491757 (238)\ttotal: 4m 54s\tremaining: 1m 15s\n",
      "239:\tlearn: 0.9255976\ttest: 0.9494046\tbest: 0.9494046 (239)\ttotal: 4m 55s\tremaining: 1m 13s\n",
      "240:\tlearn: 0.9256391\ttest: 0.9495127\tbest: 0.9495127 (240)\ttotal: 4m 56s\tremaining: 1m 12s\n",
      "241:\tlearn: 0.9257019\ttest: 0.9495953\tbest: 0.9495953 (241)\ttotal: 4m 57s\tremaining: 1m 11s\n",
      "242:\tlearn: 0.9257154\ttest: 0.9496971\tbest: 0.9496971 (242)\ttotal: 4m 59s\tremaining: 1m 10s\n",
      "243:\tlearn: 0.9257490\ttest: 0.9496398\tbest: 0.9496971 (242)\ttotal: 5m\tremaining: 1m 8s\n",
      "244:\tlearn: 0.9257827\ttest: 0.9497352\tbest: 0.9497352 (244)\ttotal: 5m 1s\tremaining: 1m 7s\n",
      "245:\tlearn: 0.9257748\ttest: 0.9498051\tbest: 0.9498051 (245)\ttotal: 5m 2s\tremaining: 1m 6s\n",
      "246:\tlearn: 0.9258904\ttest: 0.9500340\tbest: 0.9500340 (246)\ttotal: 5m 3s\tremaining: 1m 5s\n",
      "247:\tlearn: 0.9259824\ttest: 0.9502057\tbest: 0.9502057 (247)\ttotal: 5m 5s\tremaining: 1m 3s\n",
      "248:\tlearn: 0.9260834\ttest: 0.9503964\tbest: 0.9503964 (248)\ttotal: 5m 6s\tremaining: 1m 2s\n",
      "249:\tlearn: 0.9261305\ttest: 0.9503837\tbest: 0.9503964 (248)\ttotal: 5m 7s\tremaining: 1m 1s\n",
      "250:\tlearn: 0.9262158\ttest: 0.9505172\tbest: 0.9505172 (250)\ttotal: 5m 8s\tremaining: 1m\n",
      "251:\tlearn: 0.9262887\ttest: 0.9505808\tbest: 0.9505808 (251)\ttotal: 5m 9s\tremaining: 59s\n",
      "252:\tlearn: 0.9262831\ttest: 0.9506253\tbest: 0.9506253 (252)\ttotal: 5m 11s\tremaining: 57.8s\n",
      "253:\tlearn: 0.9263437\ttest: 0.9506889\tbest: 0.9506889 (253)\ttotal: 5m 12s\tremaining: 56.6s\n",
      "254:\tlearn: 0.9264177\ttest: 0.9508415\tbest: 0.9508415 (254)\ttotal: 5m 13s\tremaining: 55.3s\n",
      "255:\tlearn: 0.9264536\ttest: 0.9508542\tbest: 0.9508542 (255)\ttotal: 5m 14s\tremaining: 54.1s\n",
      "256:\tlearn: 0.9265075\ttest: 0.9509623\tbest: 0.9509623 (256)\ttotal: 5m 15s\tremaining: 52.9s\n",
      "257:\tlearn: 0.9265770\ttest: 0.9510767\tbest: 0.9510767 (257)\ttotal: 5m 17s\tremaining: 51.6s\n",
      "258:\tlearn: 0.9266331\ttest: 0.9511276\tbest: 0.9511276 (258)\ttotal: 5m 18s\tremaining: 50.4s\n",
      "259:\tlearn: 0.9266410\ttest: 0.9511148\tbest: 0.9511276 (258)\ttotal: 5m 19s\tremaining: 49.2s\n",
      "260:\tlearn: 0.9267038\ttest: 0.9512420\tbest: 0.9512420 (260)\ttotal: 5m 20s\tremaining: 47.9s\n",
      "261:\tlearn: 0.9267397\ttest: 0.9512992\tbest: 0.9512992 (261)\ttotal: 5m 22s\tremaining: 46.7s\n",
      "262:\tlearn: 0.9267981\ttest: 0.9513819\tbest: 0.9513819 (262)\ttotal: 5m 23s\tremaining: 45.5s\n",
      "263:\tlearn: 0.9268059\ttest: 0.9513819\tbest: 0.9513819 (262)\ttotal: 5m 24s\tremaining: 44.2s\n",
      "264:\tlearn: 0.9268295\ttest: 0.9514327\tbest: 0.9514327 (264)\ttotal: 5m 25s\tremaining: 43s\n",
      "265:\tlearn: 0.9268654\ttest: 0.9514900\tbest: 0.9514900 (265)\ttotal: 5m 26s\tremaining: 41.8s\n",
      "266:\tlearn: 0.9269316\ttest: 0.9515790\tbest: 0.9515790 (266)\ttotal: 5m 28s\tremaining: 40.5s\n",
      "267:\tlearn: 0.9269439\ttest: 0.9515790\tbest: 0.9515790 (266)\ttotal: 5m 29s\tremaining: 39.3s\n",
      "268:\tlearn: 0.9269888\ttest: 0.9516298\tbest: 0.9516298 (268)\ttotal: 5m 30s\tremaining: 38.1s\n",
      "269:\tlearn: 0.9270191\ttest: 0.9516489\tbest: 0.9516489 (269)\ttotal: 5m 31s\tremaining: 36.8s\n",
      "270:\tlearn: 0.9270505\ttest: 0.9517188\tbest: 0.9517188 (270)\ttotal: 5m 32s\tremaining: 35.6s\n",
      "271:\tlearn: 0.9270774\ttest: 0.9516998\tbest: 0.9517188 (270)\ttotal: 5m 33s\tremaining: 34.4s\n",
      "272:\tlearn: 0.9270875\ttest: 0.9517951\tbest: 0.9517951 (272)\ttotal: 5m 35s\tremaining: 33.1s\n"
     ]
    },
    {
     "name": "stdout",
     "output_type": "stream",
     "text": [
      "273:\tlearn: 0.9271201\ttest: 0.9518142\tbest: 0.9518142 (273)\ttotal: 5m 36s\tremaining: 31.9s\n",
      "274:\tlearn: 0.9271560\ttest: 0.9518460\tbest: 0.9518460 (274)\ttotal: 5m 37s\tremaining: 30.7s\n",
      "275:\tlearn: 0.9272087\ttest: 0.9518905\tbest: 0.9518905 (275)\ttotal: 5m 38s\tremaining: 29.4s\n",
      "276:\tlearn: 0.9272828\ttest: 0.9518778\tbest: 0.9518905 (275)\ttotal: 5m 39s\tremaining: 28.2s\n",
      "277:\tlearn: 0.9273041\ttest: 0.9519477\tbest: 0.9519477 (277)\ttotal: 5m 41s\tremaining: 27s\n",
      "278:\tlearn: 0.9273344\ttest: 0.9519731\tbest: 0.9519731 (278)\ttotal: 5m 42s\tremaining: 25.8s\n",
      "279:\tlearn: 0.9273894\ttest: 0.9520240\tbest: 0.9520240 (279)\ttotal: 5m 43s\tremaining: 24.5s\n",
      "280:\tlearn: 0.9274174\ttest: 0.9520431\tbest: 0.9520431 (280)\ttotal: 5m 44s\tremaining: 23.3s\n",
      "281:\tlearn: 0.9274365\ttest: 0.9520939\tbest: 0.9520939 (281)\ttotal: 5m 46s\tremaining: 22.1s\n",
      "282:\tlearn: 0.9274600\ttest: 0.9521384\tbest: 0.9521384 (282)\ttotal: 5m 47s\tremaining: 20.9s\n",
      "283:\tlearn: 0.9274690\ttest: 0.9521512\tbest: 0.9521512 (283)\ttotal: 5m 48s\tremaining: 19.6s\n",
      "284:\tlearn: 0.9275341\ttest: 0.9522656\tbest: 0.9522656 (284)\ttotal: 5m 49s\tremaining: 18.4s\n",
      "285:\tlearn: 0.9275498\ttest: 0.9522020\tbest: 0.9522656 (284)\ttotal: 5m 50s\tremaining: 17.2s\n",
      "286:\tlearn: 0.9275801\ttest: 0.9523228\tbest: 0.9523228 (286)\ttotal: 5m 51s\tremaining: 15.9s\n",
      "287:\tlearn: 0.9276182\ttest: 0.9523800\tbest: 0.9523800 (287)\ttotal: 5m 53s\tremaining: 14.7s\n",
      "288:\tlearn: 0.9276788\ttest: 0.9524500\tbest: 0.9524500 (288)\ttotal: 5m 54s\tremaining: 13.5s\n",
      "289:\tlearn: 0.9276833\ttest: 0.9525263\tbest: 0.9525263 (289)\ttotal: 5m 55s\tremaining: 12.3s\n",
      "290:\tlearn: 0.9277271\ttest: 0.9525072\tbest: 0.9525263 (289)\ttotal: 5m 56s\tremaining: 11s\n",
      "291:\tlearn: 0.9277506\ttest: 0.9525644\tbest: 0.9525644 (291)\ttotal: 5m 57s\tremaining: 9.8s\n",
      "292:\tlearn: 0.9278067\ttest: 0.9526534\tbest: 0.9526534 (292)\ttotal: 5m 59s\tremaining: 8.58s\n",
      "293:\tlearn: 0.9278224\ttest: 0.9527361\tbest: 0.9527361 (293)\ttotal: 6m\tremaining: 7.35s\n",
      "294:\tlearn: 0.9279043\ttest: 0.9527552\tbest: 0.9527552 (294)\ttotal: 6m 1s\tremaining: 6.13s\n",
      "295:\tlearn: 0.9279761\ttest: 0.9528187\tbest: 0.9528187 (295)\ttotal: 6m 2s\tremaining: 4.9s\n",
      "296:\tlearn: 0.9280031\ttest: 0.9527806\tbest: 0.9528187 (295)\ttotal: 6m 3s\tremaining: 3.67s\n",
      "297:\tlearn: 0.9280188\ttest: 0.9528442\tbest: 0.9528442 (297)\ttotal: 6m 5s\tremaining: 2.45s\n",
      "298:\tlearn: 0.9280210\ttest: 0.9528505\tbest: 0.9528505 (298)\ttotal: 6m 6s\tremaining: 1.23s\n",
      "299:\tlearn: 0.9280356\ttest: 0.9528569\tbest: 0.9528569 (299)\ttotal: 6m 7s\tremaining: 0us\n",
      "\n",
      "bestTest = 0.9528568795\n",
      "bestIteration = 299\n",
      "\n"
     ]
    },
    {
     "data": {
      "text/plain": [
       "<catboost.core.CatBoostClassifier at 0x2180ba3c6a0>"
      ]
     },
     "execution_count": 48,
     "metadata": {},
     "output_type": "execute_result"
    }
   ],
   "source": [
    "model.fit(xtrain,ytrain,cat_features=cate_features_index,eval_set=(xtest,ytest))"
   ]
  },
  {
   "cell_type": "code",
   "execution_count": null,
   "metadata": {},
   "outputs": [],
   "source": []
  },
  {
   "cell_type": "code",
   "execution_count": null,
   "metadata": {},
   "outputs": [],
   "source": []
  }
 ],
 "metadata": {
  "kernelspec": {
   "display_name": "Python 3",
   "language": "python",
   "name": "python3"
  },
  "language_info": {
   "codemirror_mode": {
    "name": "ipython",
    "version": 3
   },
   "file_extension": ".py",
   "mimetype": "text/x-python",
   "name": "python",
   "nbconvert_exporter": "python",
   "pygments_lexer": "ipython3",
   "version": "3.7.3"
  }
 },
 "nbformat": 4,
 "nbformat_minor": 2
}
